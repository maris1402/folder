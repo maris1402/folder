{
 "cells": [
  {
   "cell_type": "code",
   "execution_count": 5,
   "id": "4df4804d",
   "metadata": {},
   "outputs": [],
   "source": [
    "import numpy as np\n",
    "import pandas as pd\n",
    "import matplotlib.pyplot as plt\n",
    "import pandas_datareader as data"
   ]
  },
  {
   "cell_type": "code",
   "execution_count": 6,
   "id": "04c7dc98",
   "metadata": {},
   "outputs": [
    {
     "data": {
      "text/html": [
       "<div>\n",
       "<style scoped>\n",
       "    .dataframe tbody tr th:only-of-type {\n",
       "        vertical-align: middle;\n",
       "    }\n",
       "\n",
       "    .dataframe tbody tr th {\n",
       "        vertical-align: top;\n",
       "    }\n",
       "\n",
       "    .dataframe thead th {\n",
       "        text-align: right;\n",
       "    }\n",
       "</style>\n",
       "<table border=\"1\" class=\"dataframe\">\n",
       "  <thead>\n",
       "    <tr style=\"text-align: right;\">\n",
       "      <th></th>\n",
       "      <th>High</th>\n",
       "      <th>Low</th>\n",
       "      <th>Open</th>\n",
       "      <th>Close</th>\n",
       "      <th>Volume</th>\n",
       "      <th>Adj Close</th>\n",
       "    </tr>\n",
       "    <tr>\n",
       "      <th>Date</th>\n",
       "      <th></th>\n",
       "      <th></th>\n",
       "      <th></th>\n",
       "      <th></th>\n",
       "      <th></th>\n",
       "      <th></th>\n",
       "    </tr>\n",
       "  </thead>\n",
       "  <tbody>\n",
       "    <tr>\n",
       "      <th>2021-12-31</th>\n",
       "      <td>179.229996</td>\n",
       "      <td>177.259995</td>\n",
       "      <td>178.089996</td>\n",
       "      <td>177.570007</td>\n",
       "      <td>64062300.0</td>\n",
       "      <td>176.838226</td>\n",
       "    </tr>\n",
       "    <tr>\n",
       "      <th>2022-01-03</th>\n",
       "      <td>182.880005</td>\n",
       "      <td>177.710007</td>\n",
       "      <td>177.830002</td>\n",
       "      <td>182.009995</td>\n",
       "      <td>104487900.0</td>\n",
       "      <td>181.259933</td>\n",
       "    </tr>\n",
       "    <tr>\n",
       "      <th>2022-01-04</th>\n",
       "      <td>182.940002</td>\n",
       "      <td>179.119995</td>\n",
       "      <td>182.630005</td>\n",
       "      <td>179.699997</td>\n",
       "      <td>99310400.0</td>\n",
       "      <td>178.959457</td>\n",
       "    </tr>\n",
       "    <tr>\n",
       "      <th>2022-01-05</th>\n",
       "      <td>180.169998</td>\n",
       "      <td>174.639999</td>\n",
       "      <td>179.610001</td>\n",
       "      <td>174.919998</td>\n",
       "      <td>94537600.0</td>\n",
       "      <td>174.199142</td>\n",
       "    </tr>\n",
       "    <tr>\n",
       "      <th>2022-01-06</th>\n",
       "      <td>175.300003</td>\n",
       "      <td>171.639999</td>\n",
       "      <td>172.699997</td>\n",
       "      <td>172.000000</td>\n",
       "      <td>96904000.0</td>\n",
       "      <td>171.291183</td>\n",
       "    </tr>\n",
       "  </tbody>\n",
       "</table>\n",
       "</div>"
      ],
      "text/plain": [
       "                  High         Low        Open       Close       Volume  \\\n",
       "Date                                                                      \n",
       "2021-12-31  179.229996  177.259995  178.089996  177.570007   64062300.0   \n",
       "2022-01-03  182.880005  177.710007  177.830002  182.009995  104487900.0   \n",
       "2022-01-04  182.940002  179.119995  182.630005  179.699997   99310400.0   \n",
       "2022-01-05  180.169998  174.639999  179.610001  174.919998   94537600.0   \n",
       "2022-01-06  175.300003  171.639999  172.699997  172.000000   96904000.0   \n",
       "\n",
       "             Adj Close  \n",
       "Date                    \n",
       "2021-12-31  176.838226  \n",
       "2022-01-03  181.259933  \n",
       "2022-01-04  178.959457  \n",
       "2022-01-05  174.199142  \n",
       "2022-01-06  171.291183  "
      ]
     },
     "execution_count": 6,
     "metadata": {},
     "output_type": "execute_result"
    }
   ],
   "source": [
    "start ='2022-01-01'\n",
    "end = '2022-12-01'\n",
    "df = data.DataReader('AAPL', 'yahoo', start, end)\n",
    "df.head()"
   ]
  },
  {
   "cell_type": "code",
   "execution_count": 7,
   "id": "84de7627",
   "metadata": {},
   "outputs": [
    {
     "data": {
      "text/html": [
       "<div>\n",
       "<style scoped>\n",
       "    .dataframe tbody tr th:only-of-type {\n",
       "        vertical-align: middle;\n",
       "    }\n",
       "\n",
       "    .dataframe tbody tr th {\n",
       "        vertical-align: top;\n",
       "    }\n",
       "\n",
       "    .dataframe thead th {\n",
       "        text-align: right;\n",
       "    }\n",
       "</style>\n",
       "<table border=\"1\" class=\"dataframe\">\n",
       "  <thead>\n",
       "    <tr style=\"text-align: right;\">\n",
       "      <th></th>\n",
       "      <th>High</th>\n",
       "      <th>Low</th>\n",
       "      <th>Open</th>\n",
       "      <th>Close</th>\n",
       "      <th>Volume</th>\n",
       "      <th>Adj Close</th>\n",
       "    </tr>\n",
       "    <tr>\n",
       "      <th>Date</th>\n",
       "      <th></th>\n",
       "      <th></th>\n",
       "      <th></th>\n",
       "      <th></th>\n",
       "      <th></th>\n",
       "      <th></th>\n",
       "    </tr>\n",
       "  </thead>\n",
       "  <tbody>\n",
       "    <tr>\n",
       "      <th>2022-09-21</th>\n",
       "      <td>158.740005</td>\n",
       "      <td>153.600006</td>\n",
       "      <td>157.339996</td>\n",
       "      <td>153.720001</td>\n",
       "      <td>101696800.0</td>\n",
       "      <td>153.720001</td>\n",
       "    </tr>\n",
       "    <tr>\n",
       "      <th>2022-09-22</th>\n",
       "      <td>154.470001</td>\n",
       "      <td>150.910004</td>\n",
       "      <td>152.380005</td>\n",
       "      <td>152.740005</td>\n",
       "      <td>86652500.0</td>\n",
       "      <td>152.740005</td>\n",
       "    </tr>\n",
       "    <tr>\n",
       "      <th>2022-09-23</th>\n",
       "      <td>151.470001</td>\n",
       "      <td>148.559998</td>\n",
       "      <td>151.190002</td>\n",
       "      <td>150.429993</td>\n",
       "      <td>95939200.0</td>\n",
       "      <td>150.429993</td>\n",
       "    </tr>\n",
       "    <tr>\n",
       "      <th>2022-09-26</th>\n",
       "      <td>153.770004</td>\n",
       "      <td>149.639999</td>\n",
       "      <td>149.660004</td>\n",
       "      <td>150.770004</td>\n",
       "      <td>93235300.0</td>\n",
       "      <td>150.770004</td>\n",
       "    </tr>\n",
       "    <tr>\n",
       "      <th>2022-09-27</th>\n",
       "      <td>154.690002</td>\n",
       "      <td>152.699997</td>\n",
       "      <td>152.740005</td>\n",
       "      <td>152.720001</td>\n",
       "      <td>14900951.0</td>\n",
       "      <td>152.720001</td>\n",
       "    </tr>\n",
       "  </tbody>\n",
       "</table>\n",
       "</div>"
      ],
      "text/plain": [
       "                  High         Low        Open       Close       Volume  \\\n",
       "Date                                                                      \n",
       "2022-09-21  158.740005  153.600006  157.339996  153.720001  101696800.0   \n",
       "2022-09-22  154.470001  150.910004  152.380005  152.740005   86652500.0   \n",
       "2022-09-23  151.470001  148.559998  151.190002  150.429993   95939200.0   \n",
       "2022-09-26  153.770004  149.639999  149.660004  150.770004   93235300.0   \n",
       "2022-09-27  154.690002  152.699997  152.740005  152.720001   14900951.0   \n",
       "\n",
       "             Adj Close  \n",
       "Date                    \n",
       "2022-09-21  153.720001  \n",
       "2022-09-22  152.740005  \n",
       "2022-09-23  150.429993  \n",
       "2022-09-26  150.770004  \n",
       "2022-09-27  152.720001  "
      ]
     },
     "execution_count": 7,
     "metadata": {},
     "output_type": "execute_result"
    }
   ],
   "source": [
    "df.tail()"
   ]
  },
  {
   "cell_type": "code",
   "execution_count": 8,
   "id": "606866b1",
   "metadata": {},
   "outputs": [
    {
     "data": {
      "text/html": [
       "<div>\n",
       "<style scoped>\n",
       "    .dataframe tbody tr th:only-of-type {\n",
       "        vertical-align: middle;\n",
       "    }\n",
       "\n",
       "    .dataframe tbody tr th {\n",
       "        vertical-align: top;\n",
       "    }\n",
       "\n",
       "    .dataframe thead th {\n",
       "        text-align: right;\n",
       "    }\n",
       "</style>\n",
       "<table border=\"1\" class=\"dataframe\">\n",
       "  <thead>\n",
       "    <tr style=\"text-align: right;\">\n",
       "      <th></th>\n",
       "      <th>Date</th>\n",
       "      <th>High</th>\n",
       "      <th>Low</th>\n",
       "      <th>Open</th>\n",
       "      <th>Close</th>\n",
       "      <th>Volume</th>\n",
       "      <th>Adj Close</th>\n",
       "    </tr>\n",
       "  </thead>\n",
       "  <tbody>\n",
       "    <tr>\n",
       "      <th>0</th>\n",
       "      <td>2021-12-31</td>\n",
       "      <td>179.229996</td>\n",
       "      <td>177.259995</td>\n",
       "      <td>178.089996</td>\n",
       "      <td>177.570007</td>\n",
       "      <td>64062300.0</td>\n",
       "      <td>176.838226</td>\n",
       "    </tr>\n",
       "    <tr>\n",
       "      <th>1</th>\n",
       "      <td>2022-01-03</td>\n",
       "      <td>182.880005</td>\n",
       "      <td>177.710007</td>\n",
       "      <td>177.830002</td>\n",
       "      <td>182.009995</td>\n",
       "      <td>104487900.0</td>\n",
       "      <td>181.259933</td>\n",
       "    </tr>\n",
       "    <tr>\n",
       "      <th>2</th>\n",
       "      <td>2022-01-04</td>\n",
       "      <td>182.940002</td>\n",
       "      <td>179.119995</td>\n",
       "      <td>182.630005</td>\n",
       "      <td>179.699997</td>\n",
       "      <td>99310400.0</td>\n",
       "      <td>178.959457</td>\n",
       "    </tr>\n",
       "    <tr>\n",
       "      <th>3</th>\n",
       "      <td>2022-01-05</td>\n",
       "      <td>180.169998</td>\n",
       "      <td>174.639999</td>\n",
       "      <td>179.610001</td>\n",
       "      <td>174.919998</td>\n",
       "      <td>94537600.0</td>\n",
       "      <td>174.199142</td>\n",
       "    </tr>\n",
       "    <tr>\n",
       "      <th>4</th>\n",
       "      <td>2022-01-06</td>\n",
       "      <td>175.300003</td>\n",
       "      <td>171.639999</td>\n",
       "      <td>172.699997</td>\n",
       "      <td>172.000000</td>\n",
       "      <td>96904000.0</td>\n",
       "      <td>171.291183</td>\n",
       "    </tr>\n",
       "  </tbody>\n",
       "</table>\n",
       "</div>"
      ],
      "text/plain": [
       "        Date        High         Low        Open       Close       Volume  \\\n",
       "0 2021-12-31  179.229996  177.259995  178.089996  177.570007   64062300.0   \n",
       "1 2022-01-03  182.880005  177.710007  177.830002  182.009995  104487900.0   \n",
       "2 2022-01-04  182.940002  179.119995  182.630005  179.699997   99310400.0   \n",
       "3 2022-01-05  180.169998  174.639999  179.610001  174.919998   94537600.0   \n",
       "4 2022-01-06  175.300003  171.639999  172.699997  172.000000   96904000.0   \n",
       "\n",
       "    Adj Close  \n",
       "0  176.838226  \n",
       "1  181.259933  \n",
       "2  178.959457  \n",
       "3  174.199142  \n",
       "4  171.291183  "
      ]
     },
     "execution_count": 8,
     "metadata": {},
     "output_type": "execute_result"
    }
   ],
   "source": [
    "df = df.reset_index()\n",
    "df.head()"
   ]
  },
  {
   "cell_type": "code",
   "execution_count": 9,
   "id": "2b7d740b",
   "metadata": {},
   "outputs": [
    {
     "data": {
      "text/html": [
       "<div>\n",
       "<style scoped>\n",
       "    .dataframe tbody tr th:only-of-type {\n",
       "        vertical-align: middle;\n",
       "    }\n",
       "\n",
       "    .dataframe tbody tr th {\n",
       "        vertical-align: top;\n",
       "    }\n",
       "\n",
       "    .dataframe thead th {\n",
       "        text-align: right;\n",
       "    }\n",
       "</style>\n",
       "<table border=\"1\" class=\"dataframe\">\n",
       "  <thead>\n",
       "    <tr style=\"text-align: right;\">\n",
       "      <th></th>\n",
       "      <th>High</th>\n",
       "      <th>Low</th>\n",
       "      <th>Open</th>\n",
       "      <th>Close</th>\n",
       "      <th>Volume</th>\n",
       "    </tr>\n",
       "  </thead>\n",
       "  <tbody>\n",
       "    <tr>\n",
       "      <th>0</th>\n",
       "      <td>179.229996</td>\n",
       "      <td>177.259995</td>\n",
       "      <td>178.089996</td>\n",
       "      <td>177.570007</td>\n",
       "      <td>64062300.0</td>\n",
       "    </tr>\n",
       "    <tr>\n",
       "      <th>1</th>\n",
       "      <td>182.880005</td>\n",
       "      <td>177.710007</td>\n",
       "      <td>177.830002</td>\n",
       "      <td>182.009995</td>\n",
       "      <td>104487900.0</td>\n",
       "    </tr>\n",
       "    <tr>\n",
       "      <th>2</th>\n",
       "      <td>182.940002</td>\n",
       "      <td>179.119995</td>\n",
       "      <td>182.630005</td>\n",
       "      <td>179.699997</td>\n",
       "      <td>99310400.0</td>\n",
       "    </tr>\n",
       "    <tr>\n",
       "      <th>3</th>\n",
       "      <td>180.169998</td>\n",
       "      <td>174.639999</td>\n",
       "      <td>179.610001</td>\n",
       "      <td>174.919998</td>\n",
       "      <td>94537600.0</td>\n",
       "    </tr>\n",
       "    <tr>\n",
       "      <th>4</th>\n",
       "      <td>175.300003</td>\n",
       "      <td>171.639999</td>\n",
       "      <td>172.699997</td>\n",
       "      <td>172.000000</td>\n",
       "      <td>96904000.0</td>\n",
       "    </tr>\n",
       "  </tbody>\n",
       "</table>\n",
       "</div>"
      ],
      "text/plain": [
       "         High         Low        Open       Close       Volume\n",
       "0  179.229996  177.259995  178.089996  177.570007   64062300.0\n",
       "1  182.880005  177.710007  177.830002  182.009995  104487900.0\n",
       "2  182.940002  179.119995  182.630005  179.699997   99310400.0\n",
       "3  180.169998  174.639999  179.610001  174.919998   94537600.0\n",
       "4  175.300003  171.639999  172.699997  172.000000   96904000.0"
      ]
     },
     "execution_count": 9,
     "metadata": {},
     "output_type": "execute_result"
    }
   ],
   "source": [
    "df = df.drop(['Date', 'Adj Close'], axis = 1)\n",
    "df.head()"
   ]
  },
  {
   "cell_type": "code",
   "execution_count": 10,
   "id": "7b8da821",
   "metadata": {},
   "outputs": [
    {
     "data": {
      "text/plain": [
       "[<matplotlib.lines.Line2D at 0x1e9e8a9f0a0>]"
      ]
     },
     "execution_count": 10,
     "metadata": {},
     "output_type": "execute_result"
    },
    {
     "data": {
      "image/png": "[encoded data removed]",
      "text/plain": [
       "<Figure size 640x480 with 1 Axes>"
      ]
     },
     "metadata": {},
     "output_type": "display_data"
    }
   ],
   "source": [
    "plt.plot(df.Close)"
   ]
  },
  {
   "cell_type": "code",
   "execution_count": 11,
   "id": "efd22969",
   "metadata": {},
   "outputs": [
    {
     "data": {
      "text/html": [
       "<div>\n",
       "<style scoped>\n",
       "    .dataframe tbody tr th:only-of-type {\n",
       "        vertical-align: middle;\n",
       "    }\n",
       "\n",
       "    .dataframe tbody tr th {\n",
       "        vertical-align: top;\n",
       "    }\n",
       "\n",
       "    .dataframe thead th {\n",
       "        text-align: right;\n",
       "    }\n",
       "</style>\n",
       "<table border=\"1\" class=\"dataframe\">\n",
       "  <thead>\n",
       "    <tr style=\"text-align: right;\">\n",
       "      <th></th>\n",
       "      <th>High</th>\n",
       "      <th>Low</th>\n",
       "      <th>Open</th>\n",
       "      <th>Close</th>\n",
       "      <th>Volume</th>\n",
       "    </tr>\n",
       "  </thead>\n",
       "  <tbody>\n",
       "    <tr>\n",
       "      <th>0</th>\n",
       "      <td>179.229996</td>\n",
       "      <td>177.259995</td>\n",
       "      <td>178.089996</td>\n",
       "      <td>177.570007</td>\n",
       "      <td>64062300.0</td>\n",
       "    </tr>\n",
       "    <tr>\n",
       "      <th>1</th>\n",
       "      <td>182.880005</td>\n",
       "      <td>177.710007</td>\n",
       "      <td>177.830002</td>\n",
       "      <td>182.009995</td>\n",
       "      <td>104487900.0</td>\n",
       "    </tr>\n",
       "    <tr>\n",
       "      <th>2</th>\n",
       "      <td>182.940002</td>\n",
       "      <td>179.119995</td>\n",
       "      <td>182.630005</td>\n",
       "      <td>179.699997</td>\n",
       "      <td>99310400.0</td>\n",
       "    </tr>\n",
       "    <tr>\n",
       "      <th>3</th>\n",
       "      <td>180.169998</td>\n",
       "      <td>174.639999</td>\n",
       "      <td>179.610001</td>\n",
       "      <td>174.919998</td>\n",
       "      <td>94537600.0</td>\n",
       "    </tr>\n",
       "    <tr>\n",
       "      <th>4</th>\n",
       "      <td>175.300003</td>\n",
       "      <td>171.639999</td>\n",
       "      <td>172.699997</td>\n",
       "      <td>172.000000</td>\n",
       "      <td>96904000.0</td>\n",
       "    </tr>\n",
       "    <tr>\n",
       "      <th>...</th>\n",
       "      <td>...</td>\n",
       "      <td>...</td>\n",
       "      <td>...</td>\n",
       "      <td>...</td>\n",
       "      <td>...</td>\n",
       "    </tr>\n",
       "    <tr>\n",
       "      <th>181</th>\n",
       "      <td>158.740005</td>\n",
       "      <td>153.600006</td>\n",
       "      <td>157.339996</td>\n",
       "      <td>153.720001</td>\n",
       "      <td>101696800.0</td>\n",
       "    </tr>\n",
       "    <tr>\n",
       "      <th>182</th>\n",
       "      <td>154.470001</td>\n",
       "      <td>150.910004</td>\n",
       "      <td>152.380005</td>\n",
       "      <td>152.740005</td>\n",
       "      <td>86652500.0</td>\n",
       "    </tr>\n",
       "    <tr>\n",
       "      <th>183</th>\n",
       "      <td>151.470001</td>\n",
       "      <td>148.559998</td>\n",
       "      <td>151.190002</td>\n",
       "      <td>150.429993</td>\n",
       "      <td>95939200.0</td>\n",
       "    </tr>\n",
       "    <tr>\n",
       "      <th>184</th>\n",
       "      <td>153.770004</td>\n",
       "      <td>149.639999</td>\n",
       "      <td>149.660004</td>\n",
       "      <td>150.770004</td>\n",
       "      <td>93235300.0</td>\n",
       "    </tr>\n",
       "    <tr>\n",
       "      <th>185</th>\n",
       "      <td>154.690002</td>\n",
       "      <td>152.699997</td>\n",
       "      <td>152.740005</td>\n",
       "      <td>152.720001</td>\n",
       "      <td>14900951.0</td>\n",
       "    </tr>\n",
       "  </tbody>\n",
       "</table>\n",
       "<p>186 rows × 5 columns</p>\n",
       "</div>"
      ],
      "text/plain": [
       "           High         Low        Open       Close       Volume\n",
       "0    179.229996  177.259995  178.089996  177.570007   64062300.0\n",
       "1    182.880005  177.710007  177.830002  182.009995  104487900.0\n",
       "2    182.940002  179.119995  182.630005  179.699997   99310400.0\n",
       "3    180.169998  174.639999  179.610001  174.919998   94537600.0\n",
       "4    175.300003  171.639999  172.699997  172.000000   96904000.0\n",
       "..          ...         ...         ...         ...          ...\n",
       "181  158.740005  153.600006  157.339996  153.720001  101696800.0\n",
       "182  154.470001  150.910004  152.380005  152.740005   86652500.0\n",
       "183  151.470001  148.559998  151.190002  150.429993   95939200.0\n",
       "184  153.770004  149.639999  149.660004  150.770004   93235300.0\n",
       "185  154.690002  152.699997  152.740005  152.720001   14900951.0\n",
       "\n",
       "[186 rows x 5 columns]"
      ]
     },
     "execution_count": 11,
     "metadata": {},
     "output_type": "execute_result"
    }
   ],
   "source": [
    "df\n"
   ]
  },
  {
   "cell_type": "code",
   "execution_count": 12,
   "id": "b5c2ae1b",
   "metadata": {},
   "outputs": [
    {
     "data": {
      "text/plain": [
       "0           NaN\n",
       "1           NaN\n",
       "2           NaN\n",
       "3           NaN\n",
       "4           NaN\n",
       "         ...   \n",
       "181    152.1907\n",
       "182    152.1416\n",
       "183    152.0663\n",
       "184    151.9792\n",
       "185    151.8462\n",
       "Name: Close, Length: 186, dtype: float64"
      ]
     },
     "execution_count": 12,
     "metadata": {},
     "output_type": "execute_result"
    }
   ],
   "source": [
    "ma100=df.Close.rolling(100).mean()\n",
    "ma100"
   ]
  },
  {
   "cell_type": "code",
   "execution_count": 13,
   "id": "77e089e7",
   "metadata": {},
   "outputs": [
    {
     "data": {
      "text/plain": [
       "[<matplotlib.lines.Line2D at 0x1e9e8b69f30>]"
      ]
     },
     "execution_count": 13,
     "metadata": {},
     "output_type": "execute_result"
    },
    {
     "data": {
      "image/png": "[encoded data removed]",
      "text/plain": [
       "<Figure size 1200x600 with 1 Axes>"
      ]
     },
     "metadata": {},
     "output_type": "display_data"
    }
   ],
   "source": [
    "plt.figure(figsize=(12,6))\n",
    "plt.plot(df.Close)\n",
    "plt.plot(ma100,'r')"
   ]
  },
  {
   "cell_type": "code",
   "execution_count": 14,
   "id": "1388ed2a",
   "metadata": {},
   "outputs": [
    {
     "data": {
      "text/plain": [
       "0     NaN\n",
       "1     NaN\n",
       "2     NaN\n",
       "3     NaN\n",
       "4     NaN\n",
       "       ..\n",
       "181   NaN\n",
       "182   NaN\n",
       "183   NaN\n",
       "184   NaN\n",
       "185   NaN\n",
       "Name: Close, Length: 186, dtype: float64"
      ]
     },
     "execution_count": 14,
     "metadata": {},
     "output_type": "execute_result"
    }
   ],
   "source": [
    "ma200=df.Close.rolling(200).mean()\n",
    "ma200"
   ]
  },
  {
   "cell_type": "code",
   "execution_count": 15,
   "id": "24dac4eb",
   "metadata": {},
   "outputs": [
    {
     "data": {
      "text/plain": [
       "[<matplotlib.lines.Line2D at 0x1e9eaef1d50>]"
      ]
     },
     "execution_count": 15,
     "metadata": {},
     "output_type": "execute_result"
    },
    {
     "data": {
      "image/png": "[encoded data removed]",
      "text/plain": [
       "<Figure size 1200x600 with 1 Axes>"
      ]
     },
     "metadata": {},
     "output_type": "display_data"
    }
   ],
   "source": [
    "plt.figure(figsize=(12,6))\n",
    "plt.plot(df.Close)\n",
    "plt.plot(ma100,'r')\n",
    "plt.plot(ma200,'g')"
   ]
  },
  {
   "cell_type": "code",
   "execution_count": 16,
   "id": "11d65795",
   "metadata": {},
   "outputs": [
    {
     "data": {
      "text/plain": [
       "(186, 5)"
      ]
     },
     "execution_count": 16,
     "metadata": {},
     "output_type": "execute_result"
    }
   ],
   "source": [
    "df.shape"
   ]
  },
  {
   "cell_type": "code",
   "execution_count": 17,
   "id": "249ef54f",
   "metadata": {},
   "outputs": [
    {
     "name": "stdout",
     "output_type": "stream",
     "text": [
      "(130, 1)\n",
      "(56, 1)\n"
     ]
    }
   ],
   "source": [
    "data_training =pd.DataFrame(df['Close'][0:int(len(df)*0.70)])\n",
    "data_testing =pd.DataFrame(df['Close'][int(len(df)*0.70):int(len(df))])\n",
    "\n",
    "print(data_training.shape)\n",
    "print(data_testing.shape)"
   ]
  },
  {
   "cell_type": "code",
   "execution_count": 18,
   "id": "f047bbd6",
   "metadata": {},
   "outputs": [
    {
     "data": {
      "text/html": [
       "<div>\n",
       "<style scoped>\n",
       "    .dataframe tbody tr th:only-of-type {\n",
       "        vertical-align: middle;\n",
       "    }\n",
       "\n",
       "    .dataframe tbody tr th {\n",
       "        vertical-align: top;\n",
       "    }\n",
       "\n",
       "    .dataframe thead th {\n",
       "        text-align: right;\n",
       "    }\n",
       "</style>\n",
       "<table border=\"1\" class=\"dataframe\">\n",
       "  <thead>\n",
       "    <tr style=\"text-align: right;\">\n",
       "      <th></th>\n",
       "      <th>Close</th>\n",
       "    </tr>\n",
       "  </thead>\n",
       "  <tbody>\n",
       "    <tr>\n",
       "      <th>0</th>\n",
       "      <td>177.570007</td>\n",
       "    </tr>\n",
       "    <tr>\n",
       "      <th>1</th>\n",
       "      <td>182.009995</td>\n",
       "    </tr>\n",
       "    <tr>\n",
       "      <th>2</th>\n",
       "      <td>179.699997</td>\n",
       "    </tr>\n",
       "    <tr>\n",
       "      <th>3</th>\n",
       "      <td>174.919998</td>\n",
       "    </tr>\n",
       "    <tr>\n",
       "      <th>4</th>\n",
       "      <td>172.000000</td>\n",
       "    </tr>\n",
       "  </tbody>\n",
       "</table>\n",
       "</div>"
      ],
      "text/plain": [
       "        Close\n",
       "0  177.570007\n",
       "1  182.009995\n",
       "2  179.699997\n",
       "3  174.919998\n",
       "4  172.000000"
      ]
     },
     "execution_count": 18,
     "metadata": {},
     "output_type": "execute_result"
    }
   ],
   "source": [
    "data_training.head()"
   ]
  },
  {
   "cell_type": "code",
   "execution_count": 19,
   "id": "783aa1af",
   "metadata": {},
   "outputs": [
    {
     "data": {
      "text/html": [
       "<div>\n",
       "<style scoped>\n",
       "    .dataframe tbody tr th:only-of-type {\n",
       "        vertical-align: middle;\n",
       "    }\n",
       "\n",
       "    .dataframe tbody tr th {\n",
       "        vertical-align: top;\n",
       "    }\n",
       "\n",
       "    .dataframe thead th {\n",
       "        text-align: right;\n",
       "    }\n",
       "</style>\n",
       "<table border=\"1\" class=\"dataframe\">\n",
       "  <thead>\n",
       "    <tr style=\"text-align: right;\">\n",
       "      <th></th>\n",
       "      <th>Close</th>\n",
       "    </tr>\n",
       "  </thead>\n",
       "  <tbody>\n",
       "    <tr>\n",
       "      <th>130</th>\n",
       "      <td>144.869995</td>\n",
       "    </tr>\n",
       "    <tr>\n",
       "      <th>131</th>\n",
       "      <td>145.860001</td>\n",
       "    </tr>\n",
       "    <tr>\n",
       "      <th>132</th>\n",
       "      <td>145.490005</td>\n",
       "    </tr>\n",
       "    <tr>\n",
       "      <th>133</th>\n",
       "      <td>148.470001</td>\n",
       "    </tr>\n",
       "    <tr>\n",
       "      <th>134</th>\n",
       "      <td>150.169998</td>\n",
       "    </tr>\n",
       "  </tbody>\n",
       "</table>\n",
       "</div>"
      ],
      "text/plain": [
       "          Close\n",
       "130  144.869995\n",
       "131  145.860001\n",
       "132  145.490005\n",
       "133  148.470001\n",
       "134  150.169998"
      ]
     },
     "execution_count": 19,
     "metadata": {},
     "output_type": "execute_result"
    }
   ],
   "source": [
    "data_testing.head()"
   ]
  },
  {
   "cell_type": "code",
   "execution_count": 20,
   "id": "3cc4c11b",
   "metadata": {},
   "outputs": [],
   "source": [
    "# scaling down data in 0,1 scale \n",
    "\n",
    "from sklearn.preprocessing import MinMaxScaler\n",
    "scaler = MinMaxScaler(feature_range=(0,1))"
   ]
  },
  {
   "cell_type": "code",
   "execution_count": 21,
   "id": "0c0391bc",
   "metadata": {},
   "outputs": [
    {
     "data": {
      "text/plain": [
       "array([[0.91453345],\n",
       "       [1.        ],\n",
       "       [0.95553421],\n",
       "       [0.86352268],\n",
       "       [0.80731482],\n",
       "       [0.81058716],\n",
       "       [0.81097223],\n",
       "       [0.86660264],\n",
       "       [0.87526475],\n",
       "       [0.81097223],\n",
       "       [0.82791169],\n",
       "       [0.76496646],\n",
       "       [0.6962464 ],\n",
       "       [0.66313761],\n",
       "       [0.6227143 ],\n",
       "       [0.60750721],\n",
       "       [0.5720886 ],\n",
       "       [0.57035624],\n",
       "       [0.56130905],\n",
       "       [0.77516856],\n",
       "       [0.86082779],\n",
       "       [0.85755545],\n",
       "       [0.88123198],\n",
       "       [0.82463905],\n",
       "       [0.81482203],\n",
       "       [0.80077014],\n",
       "       [0.86179032],\n",
       "       [0.88970171],\n",
       "       [0.80962464],\n",
       "       [0.74263723],\n",
       "       [0.74725716],\n",
       "       [0.82252162],\n",
       "       [0.81790198],\n",
       "       [0.74725716],\n",
       "       [0.71684327],\n",
       "       [0.6594805 ],\n",
       "       [0.57767106],\n",
       "       [0.6290666 ],\n",
       "       [0.66968259],\n",
       "       [0.67487968],\n",
       "       [0.6379211 ],\n",
       "       [0.70259869],\n",
       "       [0.6962464 ],\n",
       "       [0.63734365],\n",
       "       [0.56284903],\n",
       "       [0.52704536],\n",
       "       [0.63310878],\n",
       "       [0.54783462],\n",
       "       [0.47487968],\n",
       "       [0.39576514],\n",
       "       [0.48180944],\n",
       "       [0.56843119],\n",
       "       [0.58825793],\n",
       "       [0.65293552],\n",
       "       [0.67988469],\n",
       "       [0.74610225],\n",
       "       [0.77285874],\n",
       "       [0.84716097],\n",
       "       [0.85967288],\n",
       "       [0.87661234],\n",
       "       [0.94128993],\n",
       "       [0.91838324],\n",
       "       [0.85755545],\n",
       "       [0.85178061],\n",
       "       [0.93128023],\n",
       "       [0.86621757],\n",
       "       [0.80404248],\n",
       "       [0.81000971],\n",
       "       [0.77054863],\n",
       "       [0.68700682],\n",
       "       [0.72377302],\n",
       "       [0.77651586],\n",
       "       [0.67815203],\n",
       "       [0.67391746],\n",
       "       [0.71876802],\n",
       "       [0.71549568],\n",
       "       [0.69990381],\n",
       "       [0.61077955],\n",
       "       [0.63176149],\n",
       "       [0.51472583],\n",
       "       [0.51029858],\n",
       "       [0.64639083],\n",
       "       [0.53108754],\n",
       "       [0.53705507],\n",
       "       [0.56631376],\n",
       "       [0.69220421],\n",
       "       [0.51414838],\n",
       "       [0.52396541],\n",
       "       [0.42348414],\n",
       "       [0.47064482],\n",
       "       [0.3164582 ],\n",
       "       [0.24061599],\n",
       "       [0.32820027],\n",
       "       [0.29797876],\n",
       "       [0.36920133],\n",
       "       [0.20712243],\n",
       "       [0.14032741],\n",
       "       [0.14494705],\n",
       "       [0.25120315],\n",
       "       [0.19826764],\n",
       "       [0.20134759],\n",
       "       [0.26410014],\n",
       "       [0.37690092],\n",
       "       [0.36150144],\n",
       "       [0.35899923],\n",
       "       [0.40712243],\n",
       "       [0.2948991 ],\n",
       "       [0.30952845],\n",
       "       [0.35899923],\n",
       "       [0.34456228],\n",
       "       [0.24215597],\n",
       "       [0.13609255],\n",
       "       [0.03503383],\n",
       "       [0.051973  ],\n",
       "       [0.10336854],\n",
       "       [0.        ],\n",
       "       [0.02887392],\n",
       "       [0.11183827],\n",
       "       [0.10182885],\n",
       "       [0.15803671],\n",
       "       [0.22329176],\n",
       "       [0.22329176],\n",
       "       [0.14205978],\n",
       "       [0.17651586],\n",
       "       [0.12820027],\n",
       "       [0.17074101],\n",
       "       [0.22136671],\n",
       "       [0.24754574],\n",
       "       [0.31357092],\n",
       "       [0.32685268]])"
      ]
     },
     "execution_count": 21,
     "metadata": {},
     "output_type": "execute_result"
    }
   ],
   "source": [
    "data_training_array= scaler.fit_transform(data_training)\n",
    "data_training_array"
   ]
  },
  {
   "cell_type": "code",
   "execution_count": 22,
   "id": "198e8aa5",
   "metadata": {},
   "outputs": [
    {
     "data": {
      "text/plain": [
       "(130, 1)"
      ]
     },
     "execution_count": 22,
     "metadata": {},
     "output_type": "execute_result"
    }
   ],
   "source": [
    "data_training_array.shape"
   ]
  },
  {
   "cell_type": "code",
   "execution_count": 23,
   "id": "70b8533a",
   "metadata": {},
   "outputs": [],
   "source": [
    "\n",
    "x_train =[]\n",
    "y_train =[]\n",
    "\n",
    "for i in range(100,data_training_array.shape[0]):\n",
    "    x_train.append(data_training_array[i-100:i])\n",
    "    y_train.append(data_training_array[i,0])\n",
    "    \n",
    "  \n",
    "x_train, y_train = np.array(x_train),np.array(y_train)   "
   ]
  },
  {
   "cell_type": "code",
   "execution_count": 24,
   "id": "926a5790",
   "metadata": {},
   "outputs": [
    {
     "data": {
      "text/plain": [
       "(30, 100, 1)"
      ]
     },
     "execution_count": 24,
     "metadata": {},
     "output_type": "execute_result"
    }
   ],
   "source": [
    "x_train.shape"
   ]
  },
  {
   "cell_type": "code",
   "execution_count": 25,
   "id": "e855ebf8",
   "metadata": {},
   "outputs": [],
   "source": [
    "# ML Model\n"
   ]
  },
  {
   "cell_type": "code",
   "execution_count": 26,
   "id": "542e404a",
   "metadata": {},
   "outputs": [],
   "source": [
    "from tensorflow.keras.layers import Dense , Dropout , LSTM\n",
    "from tensorflow.keras.models import Sequential"
   ]
  },
  {
   "cell_type": "code",
   "execution_count": 27,
   "id": "f90d39e7",
   "metadata": {},
   "outputs": [],
   "source": [
    "model = Sequential()\n",
    "model.add(LSTM(units = 50,activation = 'relu',return_sequences = True,\n",
    "               input_shape =(x_train.shape[1],1)))\n",
    "model.add(Dropout(0.2))\n",
    "\n",
    "\n",
    "\n",
    "\n",
    "\n",
    "model.add(LSTM(units = 60,activation = 'relu',return_sequences = True))\n",
    "model.add(Dropout(0.3))\n",
    "\n",
    "\n",
    "\n",
    "\n",
    "\n",
    "model.add(LSTM(units = 80,activation = 'relu',return_sequences = True))\n",
    "model.add(Dropout(0.4))\n",
    "\n",
    "\n",
    "\n",
    "\n",
    "model.add(LSTM(units = 120,activation = 'relu'))\n",
    "model.add(Dropout(0.5))\n",
    "\n",
    "\n",
    "# dense layer\n",
    "model.add(Dense(units = 1))"
   ]
  },
  {
   "cell_type": "code",
   "execution_count": 28,
   "id": "66ab7367",
   "metadata": {},
   "outputs": [
    {
     "name": "stdout",
     "output_type": "stream",
     "text": [
      "Model: \"sequential\"\n",
      "_________________________________________________________________\n",
      " Layer (type)                Output Shape              Param #   \n",
      "=================================================================\n",
      " lstm (LSTM)                 (None, 100, 50)           10400     \n",
      "                                                                 \n",
      " dropout (Dropout)           (None, 100, 50)           0         \n",
      "                                                                 \n",
      " lstm_1 (LSTM)               (None, 100, 60)           26640     \n",
      "                                                                 \n",
      " dropout_1 (Dropout)         (None, 100, 60)           0         \n",
      "                                                                 \n",
      " lstm_2 (LSTM)               (None, 100, 80)           45120     \n",
      "                                                                 \n",
      " dropout_2 (Dropout)         (None, 100, 80)           0         \n",
      "                                                                 \n",
      " lstm_3 (LSTM)               (None, 120)               96480     \n",
      "                                                                 \n",
      " dropout_3 (Dropout)         (None, 120)               0         \n",
      "                                                                 \n",
      " dense (Dense)               (None, 1)                 121       \n",
      "                                                                 \n",
      "=================================================================\n",
      "Total params: 178,761\n",
      "Trainable params: 178,761\n",
      "Non-trainable params: 0\n",
      "_________________________________________________________________\n"
     ]
    }
   ],
   "source": [
    "model.summary()"
   ]
  },
  {
   "cell_type": "code",
   "execution_count": 29,
   "id": "43cbfd14",
   "metadata": {},
   "outputs": [
    {
     "name": "stdout",
     "output_type": "stream",
     "text": [
      "Epoch 1/50\n",
      "1/1 [==============================] - 4s 4s/step - loss: 0.0599\n",
      "Epoch 2/50\n",
      "1/1 [==============================] - 0s 156ms/step - loss: 0.0550\n",
      "Epoch 3/50\n",
      "1/1 [==============================] - 0s 158ms/step - loss: 0.0501\n",
      "Epoch 4/50\n",
      "1/1 [==============================] - 0s 155ms/step - loss: 0.0449\n",
      "Epoch 5/50\n",
      "1/1 [==============================] - 0s 151ms/step - loss: 0.0391\n",
      "Epoch 6/50\n",
      "1/1 [==============================] - 0s 150ms/step - loss: 0.0322\n",
      "Epoch 7/50\n",
      "1/1 [==============================] - 0s 151ms/step - loss: 0.0257\n",
      "Epoch 8/50\n",
      "1/1 [==============================] - 0s 153ms/step - loss: 0.0166\n",
      "Epoch 9/50\n",
      "1/1 [==============================] - 0s 149ms/step - loss: 0.0108\n",
      "Epoch 10/50\n",
      "1/1 [==============================] - 0s 140ms/step - loss: 0.0180\n",
      "Epoch 11/50\n",
      "1/1 [==============================] - 0s 139ms/step - loss: 0.0255\n",
      "Epoch 12/50\n",
      "1/1 [==============================] - 0s 140ms/step - loss: 0.0169\n",
      "Epoch 13/50\n",
      "1/1 [==============================] - 0s 141ms/step - loss: 0.0143\n",
      "Epoch 14/50\n",
      "1/1 [==============================] - 0s 140ms/step - loss: 0.0140\n",
      "Epoch 15/50\n",
      "1/1 [==============================] - 0s 137ms/step - loss: 0.0142\n",
      "Epoch 16/50\n",
      "1/1 [==============================] - 0s 137ms/step - loss: 0.0136\n",
      "Epoch 17/50\n",
      "1/1 [==============================] - 0s 136ms/step - loss: 0.0155\n",
      "Epoch 18/50\n",
      "1/1 [==============================] - 0s 135ms/step - loss: 0.0161\n",
      "Epoch 19/50\n",
      "1/1 [==============================] - 0s 138ms/step - loss: 0.0161\n",
      "Epoch 20/50\n",
      "1/1 [==============================] - 0s 139ms/step - loss: 0.0174\n",
      "Epoch 21/50\n",
      "1/1 [==============================] - 0s 152ms/step - loss: 0.0161\n",
      "Epoch 22/50\n",
      "1/1 [==============================] - 0s 163ms/step - loss: 0.0147\n",
      "Epoch 23/50\n",
      "1/1 [==============================] - 0s 147ms/step - loss: 0.0148\n",
      "Epoch 24/50\n",
      "1/1 [==============================] - 0s 153ms/step - loss: 0.0143\n",
      "Epoch 25/50\n",
      "1/1 [==============================] - 0s 144ms/step - loss: 0.0129\n",
      "Epoch 26/50\n",
      "1/1 [==============================] - 0s 142ms/step - loss: 0.0133\n",
      "Epoch 27/50\n",
      "1/1 [==============================] - 0s 146ms/step - loss: 0.0131\n",
      "Epoch 28/50\n",
      "1/1 [==============================] - 0s 144ms/step - loss: 0.0118\n",
      "Epoch 29/50\n",
      "1/1 [==============================] - 0s 139ms/step - loss: 0.0149\n",
      "Epoch 30/50\n",
      "1/1 [==============================] - 0s 142ms/step - loss: 0.0121\n",
      "Epoch 31/50\n",
      "1/1 [==============================] - 0s 145ms/step - loss: 0.0139\n",
      "Epoch 32/50\n",
      "1/1 [==============================] - 0s 147ms/step - loss: 0.0128\n",
      "Epoch 33/50\n",
      "1/1 [==============================] - 0s 153ms/step - loss: 0.0131\n",
      "Epoch 34/50\n",
      "1/1 [==============================] - 0s 154ms/step - loss: 0.0173\n",
      "Epoch 35/50\n",
      "1/1 [==============================] - 0s 150ms/step - loss: 0.0144\n",
      "Epoch 36/50\n",
      "1/1 [==============================] - 0s 146ms/step - loss: 0.0120\n",
      "Epoch 37/50\n",
      "1/1 [==============================] - 0s 172ms/step - loss: 0.0157\n",
      "Epoch 38/50\n",
      "1/1 [==============================] - 0s 173ms/step - loss: 0.0125\n",
      "Epoch 39/50\n",
      "1/1 [==============================] - 0s 234ms/step - loss: 0.0154\n",
      "Epoch 40/50\n",
      "1/1 [==============================] - 0s 205ms/step - loss: 0.0148\n",
      "Epoch 41/50\n",
      "1/1 [==============================] - 0s 206ms/step - loss: 0.0151\n",
      "Epoch 42/50\n",
      "1/1 [==============================] - 0s 216ms/step - loss: 0.0115\n",
      "Epoch 43/50\n",
      "1/1 [==============================] - 0s 196ms/step - loss: 0.0133\n",
      "Epoch 44/50\n",
      "1/1 [==============================] - 0s 141ms/step - loss: 0.0148\n",
      "Epoch 45/50\n",
      "1/1 [==============================] - 0s 142ms/step - loss: 0.0127\n",
      "Epoch 46/50\n",
      "1/1 [==============================] - 0s 145ms/step - loss: 0.0146\n",
      "Epoch 47/50\n",
      "1/1 [==============================] - 0s 164ms/step - loss: 0.0111\n",
      "Epoch 48/50\n",
      "1/1 [==============================] - 0s 167ms/step - loss: 0.0128\n",
      "Epoch 49/50\n",
      "1/1 [==============================] - 0s 168ms/step - loss: 0.0125\n",
      "Epoch 50/50\n",
      "1/1 [==============================] - 0s 160ms/step - loss: 0.0127\n"
     ]
    },
    {
     "data": {
      "text/plain": [
       "<keras.callbacks.History at 0x1e9918582e0>"
      ]
     },
     "execution_count": 29,
     "metadata": {},
     "output_type": "execute_result"
    }
   ],
   "source": [
    "model.compile(optimizer='adam',loss = 'mean_squared_error')\n",
    "model.fit(x_train,y_train,epochs = 50)"
   ]
  },
  {
   "cell_type": "code",
   "execution_count": 30,
   "id": "af44f647",
   "metadata": {},
   "outputs": [],
   "source": [
    "model.save('keras_model.h5')"
   ]
  },
  {
   "cell_type": "code",
   "execution_count": 31,
   "id": "f702cdf5",
   "metadata": {},
   "outputs": [
    {
     "data": {
      "text/html": [
       "<div>\n",
       "<style scoped>\n",
       "    .dataframe tbody tr th:only-of-type {\n",
       "        vertical-align: middle;\n",
       "    }\n",
       "\n",
       "    .dataframe tbody tr th {\n",
       "        vertical-align: top;\n",
       "    }\n",
       "\n",
       "    .dataframe thead th {\n",
       "        text-align: right;\n",
       "    }\n",
       "</style>\n",
       "<table border=\"1\" class=\"dataframe\">\n",
       "  <thead>\n",
       "    <tr style=\"text-align: right;\">\n",
       "      <th></th>\n",
       "      <th>Close</th>\n",
       "    </tr>\n",
       "  </thead>\n",
       "  <tbody>\n",
       "    <tr>\n",
       "      <th>130</th>\n",
       "      <td>144.869995</td>\n",
       "    </tr>\n",
       "    <tr>\n",
       "      <th>131</th>\n",
       "      <td>145.860001</td>\n",
       "    </tr>\n",
       "    <tr>\n",
       "      <th>132</th>\n",
       "      <td>145.490005</td>\n",
       "    </tr>\n",
       "    <tr>\n",
       "      <th>133</th>\n",
       "      <td>148.470001</td>\n",
       "    </tr>\n",
       "    <tr>\n",
       "      <th>134</th>\n",
       "      <td>150.169998</td>\n",
       "    </tr>\n",
       "  </tbody>\n",
       "</table>\n",
       "</div>"
      ],
      "text/plain": [
       "          Close\n",
       "130  144.869995\n",
       "131  145.860001\n",
       "132  145.490005\n",
       "133  148.470001\n",
       "134  150.169998"
      ]
     },
     "execution_count": 31,
     "metadata": {},
     "output_type": "execute_result"
    }
   ],
   "source": [
    "data_testing.head()\n"
   ]
  },
  {
   "cell_type": "code",
   "execution_count": 32,
   "id": "d2dbc4c8",
   "metadata": {},
   "outputs": [
    {
     "data": {
      "text/html": [
       "<div>\n",
       "<style scoped>\n",
       "    .dataframe tbody tr th:only-of-type {\n",
       "        vertical-align: middle;\n",
       "    }\n",
       "\n",
       "    .dataframe tbody tr th {\n",
       "        vertical-align: top;\n",
       "    }\n",
       "\n",
       "    .dataframe thead th {\n",
       "        text-align: right;\n",
       "    }\n",
       "</style>\n",
       "<table border=\"1\" class=\"dataframe\">\n",
       "  <thead>\n",
       "    <tr style=\"text-align: right;\">\n",
       "      <th></th>\n",
       "      <th>Close</th>\n",
       "    </tr>\n",
       "  </thead>\n",
       "  <tbody>\n",
       "    <tr>\n",
       "      <th>30</th>\n",
       "      <td>168.880005</td>\n",
       "    </tr>\n",
       "    <tr>\n",
       "      <th>31</th>\n",
       "      <td>172.789993</td>\n",
       "    </tr>\n",
       "    <tr>\n",
       "      <th>32</th>\n",
       "      <td>172.550003</td>\n",
       "    </tr>\n",
       "    <tr>\n",
       "      <th>33</th>\n",
       "      <td>168.880005</td>\n",
       "    </tr>\n",
       "    <tr>\n",
       "      <th>34</th>\n",
       "      <td>167.300003</td>\n",
       "    </tr>\n",
       "    <tr>\n",
       "      <th>...</th>\n",
       "      <td>...</td>\n",
       "    </tr>\n",
       "    <tr>\n",
       "      <th>125</th>\n",
       "      <td>138.929993</td>\n",
       "    </tr>\n",
       "    <tr>\n",
       "      <th>126</th>\n",
       "      <td>141.559998</td>\n",
       "    </tr>\n",
       "    <tr>\n",
       "      <th>127</th>\n",
       "      <td>142.919998</td>\n",
       "    </tr>\n",
       "    <tr>\n",
       "      <th>128</th>\n",
       "      <td>146.350006</td>\n",
       "    </tr>\n",
       "    <tr>\n",
       "      <th>129</th>\n",
       "      <td>147.039993</td>\n",
       "    </tr>\n",
       "  </tbody>\n",
       "</table>\n",
       "<p>100 rows × 1 columns</p>\n",
       "</div>"
      ],
      "text/plain": [
       "          Close\n",
       "30   168.880005\n",
       "31   172.789993\n",
       "32   172.550003\n",
       "33   168.880005\n",
       "34   167.300003\n",
       "..          ...\n",
       "125  138.929993\n",
       "126  141.559998\n",
       "127  142.919998\n",
       "128  146.350006\n",
       "129  147.039993\n",
       "\n",
       "[100 rows x 1 columns]"
      ]
     },
     "execution_count": 32,
     "metadata": {},
     "output_type": "execute_result"
    }
   ],
   "source": [
    "data_training.tail(100)"
   ]
  },
  {
   "cell_type": "code",
   "execution_count": 33,
   "id": "5b8902f6",
   "metadata": {},
   "outputs": [],
   "source": [
    "past_100_days= data_training.tail(100)"
   ]
  },
  {
   "cell_type": "code",
   "execution_count": 47,
   "id": "0a833588",
   "metadata": {},
   "outputs": [
    {
     "name": "stderr",
     "output_type": "stream",
     "text": [
      "C:\\Users\\maris_q3mm6nk\\AppData\\Local\\Temp\\ipykernel_21412\\1195911748.py:1: FutureWarning: The frame.append method is deprecated and will be removed from pandas in a future version. Use pandas.concat instead.\n",
      "  final_df = past_100_days.append(data_testing,ignore_index = True)\n"
     ]
    }
   ],
   "source": [
    "final_df = past_100_days.append(data_testing,ignore_index = True)"
   ]
  },
  {
   "cell_type": "code",
   "execution_count": 48,
   "id": "ca53b11b",
   "metadata": {},
   "outputs": [
    {
     "data": {
      "text/html": [
       "<div>\n",
       "<style scoped>\n",
       "    .dataframe tbody tr th:only-of-type {\n",
       "        vertical-align: middle;\n",
       "    }\n",
       "\n",
       "    .dataframe tbody tr th {\n",
       "        vertical-align: top;\n",
       "    }\n",
       "\n",
       "    .dataframe thead th {\n",
       "        text-align: right;\n",
       "    }\n",
       "</style>\n",
       "<table border=\"1\" class=\"dataframe\">\n",
       "  <thead>\n",
       "    <tr style=\"text-align: right;\">\n",
       "      <th></th>\n",
       "      <th>Close</th>\n",
       "    </tr>\n",
       "  </thead>\n",
       "  <tbody>\n",
       "    <tr>\n",
       "      <th>0</th>\n",
       "      <td>168.880005</td>\n",
       "    </tr>\n",
       "    <tr>\n",
       "      <th>1</th>\n",
       "      <td>172.789993</td>\n",
       "    </tr>\n",
       "    <tr>\n",
       "      <th>2</th>\n",
       "      <td>172.550003</td>\n",
       "    </tr>\n",
       "    <tr>\n",
       "      <th>3</th>\n",
       "      <td>168.880005</td>\n",
       "    </tr>\n",
       "    <tr>\n",
       "      <th>4</th>\n",
       "      <td>167.300003</td>\n",
       "    </tr>\n",
       "  </tbody>\n",
       "</table>\n",
       "</div>"
      ],
      "text/plain": [
       "        Close\n",
       "0  168.880005\n",
       "1  172.789993\n",
       "2  172.550003\n",
       "3  168.880005\n",
       "4  167.300003"
      ]
     },
     "execution_count": 48,
     "metadata": {},
     "output_type": "execute_result"
    }
   ],
   "source": [
    "final_df.head()"
   ]
  },
  {
   "cell_type": "code",
   "execution_count": 49,
   "id": "e9ebae6c",
   "metadata": {},
   "outputs": [
    {
     "data": {
      "text/plain": [
       "array([[0.79386503],\n",
       "       [0.87382388],\n",
       "       [0.86891611],\n",
       "       [0.79386503],\n",
       "       [0.76155416],\n",
       "       [0.70061357],\n",
       "       [0.61370152],\n",
       "       [0.6683027 ],\n",
       "       [0.71145198],\n",
       "       [0.71697323],\n",
       "       [0.67770947],\n",
       "       [0.74642113],\n",
       "       [0.73967263],\n",
       "       [0.677096  ],\n",
       "       [0.59795501],\n",
       "       [0.5599182 ],\n",
       "       [0.672597  ],\n",
       "       [0.58200412],\n",
       "       [0.50449885],\n",
       "       [0.42044977],\n",
       "       [0.51186082],\n",
       "       [0.60388534],\n",
       "       [0.62494871],\n",
       "       [0.69366036],\n",
       "       [0.7222904 ],\n",
       "       [0.79263809],\n",
       "       [0.82106343],\n",
       "       [0.90000003],\n",
       "       [0.91329234],\n",
       "       [0.93128834],\n",
       "       [1.        ],\n",
       "       [0.97566458],\n",
       "       [0.91104284],\n",
       "       [0.90490781],\n",
       "       [0.98936597],\n",
       "       [0.92024523],\n",
       "       [0.85419216],\n",
       "       [0.86053157],\n",
       "       [0.81860923],\n",
       "       [0.72985676],\n",
       "       [0.76891614],\n",
       "       [0.82494865],\n",
       "       [0.72044968],\n",
       "       [0.71595099],\n",
       "       [0.76359896],\n",
       "       [0.76012252],\n",
       "       [0.74355816],\n",
       "       [0.64887505],\n",
       "       [0.67116567],\n",
       "       [0.54683028],\n",
       "       [0.54212689],\n",
       "       [0.68670748],\n",
       "       [0.5642125 ],\n",
       "       [0.57055223],\n",
       "       [0.60163584],\n",
       "       [0.73537832],\n",
       "       [0.5462168 ],\n",
       "       [0.55664614],\n",
       "       [0.44989767],\n",
       "       [0.49999984],\n",
       "       [0.33619631],\n",
       "       [0.25562367],\n",
       "       [0.34867075],\n",
       "       [0.31656427],\n",
       "       [0.39222913],\n",
       "       [0.22004106],\n",
       "       [0.1490799 ],\n",
       "       [0.15398768],\n",
       "       [0.26687118],\n",
       "       [0.21063397],\n",
       "       [0.21390603],\n",
       "       [0.28057257],\n",
       "       [0.40040896],\n",
       "       [0.38404898],\n",
       "       [0.38139071],\n",
       "       [0.43251544],\n",
       "       [0.31329252],\n",
       "       [0.32883433],\n",
       "       [0.38139071],\n",
       "       [0.36605329],\n",
       "       [0.2572597 ],\n",
       "       [0.1445809 ],\n",
       "       [0.03721896],\n",
       "       [0.05521465],\n",
       "       [0.10981583],\n",
       "       [0.        ],\n",
       "       [0.03067484],\n",
       "       [0.11881383],\n",
       "       [0.10818011],\n",
       "       [0.16789377],\n",
       "       [0.23721889],\n",
       "       [0.23721889],\n",
       "       [0.15092032],\n",
       "       [0.18752549],\n",
       "       [0.13619637],\n",
       "       [0.18139046],\n",
       "       [0.23517378],\n",
       "       [0.26298565],\n",
       "       [0.33312895],\n",
       "       [0.34723911],\n",
       "       [0.30286288],\n",
       "       [0.32310839],\n",
       "       [0.31554203],\n",
       "       [0.37648262],\n",
       "       [0.41124738],\n",
       "       [0.3478529 ],\n",
       "       [0.42822083],\n",
       "       [0.46993847],\n",
       "       [0.51717799],\n",
       "       [0.49141093],\n",
       "       [0.46809806],\n",
       "       [0.44049089],\n",
       "       [0.54662558],\n",
       "       [0.55807778],\n",
       "       [0.663599  ],\n",
       "       [0.6431491 ],\n",
       "       [0.61247426],\n",
       "       [0.73762782],\n",
       "       [0.73108371],\n",
       "       [0.72167693],\n",
       "       [0.71186076],\n",
       "       [0.71288331],\n",
       "       [0.80122701],\n",
       "       [0.78588959],\n",
       "       [0.85971372],\n",
       "       [0.88200402],\n",
       "       [0.87873197],\n",
       "       [0.90981589],\n",
       "       [0.90163575],\n",
       "       [0.84785274],\n",
       "       [0.76707572],\n",
       "       [0.76012252],\n",
       "       [0.76625755],\n",
       "       [0.81738229],\n",
       "       [0.68629839],\n",
       "       [0.64049083],\n",
       "       [0.58997956],\n",
       "       [0.55541919],\n",
       "       [0.57055223],\n",
       "       [0.52658477],\n",
       "       [0.50040893],\n",
       "       [0.52965244],\n",
       "       [0.4989776 ],\n",
       "       [0.55848655],\n",
       "       [0.68241286],\n",
       "       [0.48629845],\n",
       "       [0.51635982],\n",
       "       [0.45623708],\n",
       "       [0.4220858 ],\n",
       "       [0.49938637],\n",
       "       [0.54887508],\n",
       "       [0.48384457],\n",
       "       [0.46380376],\n",
       "       [0.41656424],\n",
       "       [0.42351744],\n",
       "       [0.46339467]])"
      ]
     },
     "execution_count": 49,
     "metadata": {},
     "output_type": "execute_result"
    }
   ],
   "source": [
    "input_data =scaler.fit_transform(final_df)\n",
    "input_data"
   ]
  },
  {
   "cell_type": "code",
   "execution_count": 50,
   "id": "747761e1",
   "metadata": {},
   "outputs": [
    {
     "data": {
      "text/plain": [
       "(156, 1)"
      ]
     },
     "execution_count": 50,
     "metadata": {},
     "output_type": "execute_result"
    }
   ],
   "source": [
    "input_data.shape"
   ]
  },
  {
   "cell_type": "code",
   "execution_count": 51,
   "id": "4cb09120",
   "metadata": {},
   "outputs": [],
   "source": [
    "x_test =[]\n",
    "y_test =[]\n",
    "\n",
    "for i in range(100,input_data.shape[0]):\n",
    "    x_test.append(input_data[i-100:i])\n",
    "    y_test.append(input_data[i,0])"
   ]
  },
  {
   "cell_type": "code",
   "execution_count": 52,
   "id": "5380549e",
   "metadata": {},
   "outputs": [
    {
     "name": "stdout",
     "output_type": "stream",
     "text": [
      "(56, 100, 1)\n",
      "(56,)\n"
     ]
    }
   ],
   "source": [
    "x_test,y_test = np.array(x_test),np.array(y_test)\n",
    "print(x_test.shape)\n",
    "print(y_test.shape)"
   ]
  },
  {
   "cell_type": "code",
   "execution_count": 53,
   "id": "525c6907",
   "metadata": {},
   "outputs": [
    {
     "name": "stdout",
     "output_type": "stream",
     "text": [
      "2/2 [==============================] - 0s 42ms/step\n"
     ]
    }
   ],
   "source": [
    "# making predictions\n",
    "\n",
    "y_predicted = model.predict(x_test)"
   ]
  },
  {
   "cell_type": "code",
   "execution_count": 54,
   "id": "ae98291c",
   "metadata": {},
   "outputs": [
    {
     "data": {
      "text/plain": [
       "(56, 1)"
      ]
     },
     "execution_count": 54,
     "metadata": {},
     "output_type": "execute_result"
    }
   ],
   "source": [
    "y_predicted.shape"
   ]
  },
  {
   "cell_type": "code",
   "execution_count": 55,
   "id": "3721aeee",
   "metadata": {},
   "outputs": [
    {
     "data": {
      "text/plain": [
       "array([0.30286288, 0.32310839, 0.31554203, 0.37648262, 0.41124738,\n",
       "       0.3478529 , 0.42822083, 0.46993847, 0.51717799, 0.49141093,\n",
       "       0.46809806, 0.44049089, 0.54662558, 0.55807778, 0.663599  ,\n",
       "       0.6431491 , 0.61247426, 0.73762782, 0.73108371, 0.72167693,\n",
       "       0.71186076, 0.71288331, 0.80122701, 0.78588959, 0.85971372,\n",
       "       0.88200402, 0.87873197, 0.90981589, 0.90163575, 0.84785274,\n",
       "       0.76707572, 0.76012252, 0.76625755, 0.81738229, 0.68629839,\n",
       "       0.64049083, 0.58997956, 0.55541919, 0.57055223, 0.52658477,\n",
       "       0.50040893, 0.52965244, 0.4989776 , 0.55848655, 0.68241286,\n",
       "       0.48629845, 0.51635982, 0.45623708, 0.4220858 , 0.49938637,\n",
       "       0.54887508, 0.48384457, 0.46380376, 0.41656424, 0.42351744,\n",
       "       0.46339467])"
      ]
     },
     "execution_count": 55,
     "metadata": {},
     "output_type": "execute_result"
    }
   ],
   "source": [
    "y_test\n"
   ]
  },
  {
   "cell_type": "code",
   "execution_count": 56,
   "id": "8acc9154",
   "metadata": {},
   "outputs": [
    {
     "data": {
      "text/plain": [
       "array([[0.19888762],\n",
       "       [0.19864863],\n",
       "       [0.19861814],\n",
       "       [0.19878384],\n",
       "       [0.19913757],\n",
       "       [0.199676  ],\n",
       "       [0.20038083],\n",
       "       [0.20124081],\n",
       "       [0.20225298],\n",
       "       [0.2034234 ],\n",
       "       [0.20474939],\n",
       "       [0.20621416],\n",
       "       [0.20778506],\n",
       "       [0.20944765],\n",
       "       [0.21119401],\n",
       "       [0.21303856],\n",
       "       [0.21499619],\n",
       "       [0.21706915],\n",
       "       [0.21926749],\n",
       "       [0.22159807],\n",
       "       [0.22405574],\n",
       "       [0.22662082],\n",
       "       [0.22926658],\n",
       "       [0.23198134],\n",
       "       [0.23475176],\n",
       "       [0.23757794],\n",
       "       [0.24046487],\n",
       "       [0.24341176],\n",
       "       [0.2464171 ],\n",
       "       [0.24947065],\n",
       "       [0.25254136],\n",
       "       [0.25557068],\n",
       "       [0.25849313],\n",
       "       [0.26125097],\n",
       "       [0.2638123 ],\n",
       "       [0.26613137],\n",
       "       [0.2681591 ],\n",
       "       [0.26984543],\n",
       "       [0.27114737],\n",
       "       [0.2720431 ],\n",
       "       [0.27252296],\n",
       "       [0.2725883 ],\n",
       "       [0.27226222],\n",
       "       [0.2715766 ],\n",
       "       [0.27058542],\n",
       "       [0.26937956],\n",
       "       [0.26801354],\n",
       "       [0.2665312 ],\n",
       "       [0.26495624],\n",
       "       [0.2632976 ],\n",
       "       [0.26157692],\n",
       "       [0.25983256],\n",
       "       [0.25809246],\n",
       "       [0.25637364],\n",
       "       [0.25467804],\n",
       "       [0.25300473]], dtype=float32)"
      ]
     },
     "execution_count": 56,
     "metadata": {},
     "output_type": "execute_result"
    }
   ],
   "source": [
    "y_predicted"
   ]
  },
  {
   "cell_type": "code",
   "execution_count": 57,
   "id": "38934f97",
   "metadata": {},
   "outputs": [
    {
     "data": {
      "text/plain": [
       "array([0.02044989])"
      ]
     },
     "execution_count": 57,
     "metadata": {},
     "output_type": "execute_result"
    }
   ],
   "source": [
    "scaler.scale_"
   ]
  },
  {
   "cell_type": "code",
   "execution_count": 58,
   "id": "af1b03f6",
   "metadata": {},
   "outputs": [],
   "source": [
    "scale_factor = 1/0.02099517\n",
    "y_predicted =y_predicted*scale_factor\n",
    "y_test =y_test*scale_factor"
   ]
  },
  {
   "cell_type": "code",
   "execution_count": 59,
   "id": "e36c38d2",
   "metadata": {},
   "outputs": [
    {
     "data": {
      "image/png": "[encoded data removed]",
      "text/plain": [
       "<Figure size 1200x600 with 1 Axes>"
      ]
     },
     "metadata": {},
     "output_type": "display_data"
    }
   ],
   "source": [
    "plt.figure(figsize=(12,6))\n",
    "plt.plot(y_test,'b',label ='Original Price')\n",
    "plt.plot(y_predicted,'r',label='Predicted Price')\n",
    "plt.xlabel('Time')\n",
    "plt.ylabel('Price')\n",
    "plt.legend()\n",
    "plt.show()"
   ]
  },
  {
   "cell_type": "code",
   "execution_count": null,
   "id": "719fa9f0",
   "metadata": {},
   "outputs": [],
   "source": []
  },
  {
   "cell_type": "code",
   "execution_count": null,
   "id": "245d87e4",
   "metadata": {},
   "outputs": [],
   "source": []
  },
  {
   "cell_type": "code",
   "execution_count": null,
   "id": "821f5cbe",
   "metadata": {},
   "outputs": [],
   "source": []
  },
  {
   "cell_type": "code",
   "execution_count": null,
   "id": "5b986e3d",
   "metadata": {},
   "outputs": [],
   "source": []
  },
  {
   "cell_type": "code",
   "execution_count": null,
   "id": "25ba21b5",
   "metadata": {},
   "outputs": [],
   "source": []
  },
  {
   "cell_type": "code",
   "execution_count": null,
   "id": "a4fc3d8e",
   "metadata": {},
   "outputs": [],
   "source": []
  },
  {
   "cell_type": "code",
   "execution_count": null,
   "id": "8778b094",
   "metadata": {},
   "outputs": [],
   "source": []
  },
  {
   "cell_type": "code",
   "execution_count": null,
   "id": "3880460c",
   "metadata": {},
   "outputs": [],
   "source": []
  },
  {
   "cell_type": "code",
   "execution_count": null,
   "id": "a035c591",
   "metadata": {},
   "outputs": [],
   "source": []
  },
  {
   "cell_type": "code",
   "execution_count": null,
   "id": "55ca007f",
   "metadata": {},
   "outputs": [],
   "source": []
  },
  {
   "cell_type": "code",
   "execution_count": null,
   "id": "78df743d",
   "metadata": {},
   "outputs": [],
   "source": []
  },
  {
   "cell_type": "code",
   "execution_count": null,
   "id": "af29bf08",
   "metadata": {},
   "outputs": [],
   "source": []
  },
  {
   "cell_type": "code",
   "execution_count": null,
   "id": "5d552996",
   "metadata": {},
   "outputs": [],
   "source": []
  },
  {
   "cell_type": "code",
   "execution_count": null,
   "id": "2a60ded7",
   "metadata": {},
   "outputs": [],
   "source": []
  },
  {
   "cell_type": "code",
   "execution_count": null,
   "id": "d52966cc",
   "metadata": {},
   "outputs": [],
   "source": []
  }
 ],
 "metadata": {
  "kernelspec": {
   "display_name": "Python 3 (ipykernel)",
   "language": "python",
   "name": "python3"
  },
  "language_info": {
   "codemirror_mode": {
    "name": "ipython",
    "version": 3
   },
   "file_extension": ".py",
   "mimetype": "text/x-python",
   "name": "python",
   "nbconvert_exporter": "python",
   "pygments_lexer": "ipython3",
   "version": "3.10.7"
  }
 },
 "nbformat": 4,
 "nbformat_minor": 5
}
